{
 "cells": [
  {
   "cell_type": "markdown",
   "metadata": {},
   "source": [
    "# TalkingData Model Development and Training"
   ]
  },
  {
   "cell_type": "markdown",
   "metadata": {},
   "source": [
    "## Model Development\n",
    "After EDA and Feature Engineering, now our data is in good shape for us to progress further. The next stage is to develop the model and follow by training the model by fitting the data.  "
   ]
  },
  {
   "cell_type": "markdown",
   "metadata": {},
   "source": [
    "### Cat2Vec Training - To train the vocab vector using full train data\n",
    "For Cat2Vec encoding, first we have to collect the vocab and trains its vector encoding usng gensim Word2Vec package. The training is done with full train data."
   ]
  },
  {
   "cell_type": "code",
   "execution_count": 2,
   "metadata": {},
   "outputs": [],
   "source": [
    "import random \n",
    "from gensim.models import Word2Vec\n",
    "import os\n",
    "\n",
    "os.environ['PYTHONHASHSEED'] = '0'\n",
    "\n",
    "random.seed(4)\n",
    "\n",
    "categories = ['ip','app','device','os','channel']\n",
    "\n",
    "def preProcessRow(line):\n",
    "    # extract, prepend category name, shuffle\n",
    "    extractedCategories = line.split(',')[0:5]\n",
    "    \n",
    "    for i,item in enumerate(categories):\n",
    "        extractedCategories[i] = \"%s %s\" % (categories[i], extractedCategories[i])\n",
    "        \n",
    "    return extractedCategories    \n",
    "    \n",
    "# Use iterator to avoid reading the full train data into memory\n",
    "class DataRows(object):\n",
    "    def __init__(self, filename):\n",
    "        self.filename = filename\n",
    "    \n",
    "    def __iter__(self):        \n",
    "        with open(self.filename) as f:\n",
    "            f.readline() # skip header\n",
    "            for line in f:\n",
    "                catCols = preProcessRow(line) \n",
    "                random.shuffle(catCols)\n",
    "                yield catCols \n"
   ]
  },
  {
   "cell_type": "code",
   "execution_count": 2,
   "metadata": {},
   "outputs": [],
   "source": [
    "#training\n",
    "sentences = DataRows('./data/talkingdata_train_raw.csv') # a memory-friendly iterator\n",
    "model = Word2Vec(sentences, size=5, window=7, min_count=5, workers=6)   "
   ]
  },
  {
   "cell_type": "code",
   "execution_count": 3,
   "metadata": {},
   "outputs": [
    {
     "name": "stdout",
     "output_type": "stream",
     "text": [
      "Cat2Vec Training Done!\n"
     ]
    }
   ],
   "source": [
    "model.save(\"./cat2vec.model\")\n",
    "print('Cat2Vec Training Done!')"
   ]
  },
  {
   "cell_type": "code",
   "execution_count": 10,
   "metadata": {},
   "outputs": [
    {
     "name": "stdout",
     "output_type": "stream",
     "text": [
      "185749\n"
     ]
    }
   ],
   "source": [
    "print(len(model.wv.vocab))"
   ]
  },
  {
   "cell_type": "code",
   "execution_count": 3,
   "metadata": {},
   "outputs": [],
   "source": [
    "#try to load the save model\n",
    "model = Word2Vec.load(\"./cat2vec.model\")"
   ]
  },
  {
   "cell_type": "markdown",
   "metadata": {},
   "source": [
    "### Create Pipeline\n",
    "Then we will re-implement some of our transformation logic as Scikit-Learn Transformer so that they can be assembled into SciKit Learn Pipeline."
   ]
  },
  {
   "cell_type": "code",
   "execution_count": 6,
   "metadata": {},
   "outputs": [
    {
     "name": "stdout",
     "output_type": "stream",
     "text": [
      "Overwriting CustomTransformer.py\n"
     ]
    }
   ],
   "source": [
    "%%writefile CustomTransformer.py \n",
    "\n",
    "# Cat2Vec - good to have to avoid data leak, but problem is slow in training,\n",
    "# so it is not implemented as transformer, refer to another notebook for Cat2Vec custom transformer\n",
    "from sklearn.base import BaseEstimator, TransformerMixin\n",
    "from gensim.models import Word2Vec\n",
    "import copy\n",
    "import numpy as np \n",
    "import pandas as pd \n",
    "from random import shuffle\n",
    "\n",
    "def datetime_transform(x):\n",
    "    #import pdb\n",
    "    #pdb.set_trace()\n",
    "    for c in x.columns.values:\n",
    "        x.loc[:, c] = pd.to_datetime(x[c])\n",
    "        x.loc[:, c] = x[c].dt.round('H').dt.hour\n",
    "        x.loc[:, c+'_sin'] = np.sin(x[c]*(2.*np.pi/24))\n",
    "        x.loc[:, c+'_cos'] = np.cos(x[c]*(2.*np.pi/24))\n",
    "        x.drop([c], axis=1, inplace=True)\n",
    "    return x.values     \n",
    "\n",
    "def log_transform(x, shift=1):\n",
    "    return np.log(x + shift)"
   ]
  },
  {
   "cell_type": "code",
   "execution_count": 7,
   "metadata": {},
   "outputs": [],
   "source": [
    "# convert time to nearest hour (use FunctionTransformer as it is stateless)\n",
    "from sklearn.pipeline import FeatureUnion, make_pipeline, Pipeline\n",
    "from CustomTransformer import datetime_transform, log_transform\n",
    "from sklearn.preprocessing import FunctionTransformer\n",
    "import numpy as np # linear algebra\n",
    "import pandas as pd # data processing, CSV file I/O (e.g. pd.read_csv)\n",
    "from sklearn.compose import ColumnTransformer, make_column_transformer\n",
    "from sklearn.preprocessing import StandardScaler\n",
    "\n",
    "log_transform_cols = ['cumcount_by_ip_app_past_5min',\n",
    "       'cumcount_by_ip_app_past_1hr_to_8hr',\n",
    "       'cumcount_by_ip_app_os_past_5min',\n",
    "       'cumcount_by_ip_app_os_past_5min_to_1hr',\n",
    "       'cumcount_by_ip_app_os_past_1hr_to_8hr',\n",
    "       'cumcount_by_ip_device_os_past_5min',\n",
    "       'cumcount_by_ip_device_os_past_5min_to_1hr',\n",
    "       'cumcount_by_ip_device_os_past_1hr_to_8hr',\n",
    "       'cumcount_by_ip_device_os_app_channel_past_5min',\n",
    "       'cumcount_by_ip_device_os_app_channel_past_5min_to_1hr',\n",
    "       'cumcount_by_ip_device_os_app_channel_past_1hr_to_8hr',\n",
    "       'cumcount_by_ip_past_5min',\n",
    "       'cumcount_by_ip_past_5min_to_1hr',\n",
    "       'cumcount_by_ip_past_1hr_to_8hr']\n",
    "\n",
    "datetime_cols = ['click_time']\n",
    "\n",
    "datetime_transformer = FunctionTransformer(datetime_transform, validate=False)\n",
    "log_transformer = FunctionTransformer(log_transform, validate=False)\n",
    "scaler = StandardScaler()\n",
    "\n",
    "preprocess_cols = make_column_transformer(\n",
    "   (datetime_transformer, datetime_cols),\n",
    "   (log_transformer, log_transform_cols),\n",
    "   remainder = 'passthrough' \n",
    ")\n",
    "\n",
    "preprocess_all =  Pipeline([('preprocess', preprocess_cols), ('scaler', scaler)])\n",
    "\n"
   ]
  },
  {
   "cell_type": "markdown",
   "metadata": {},
   "source": [
    "### Development and Local Training\n",
    "Due to limited memory and processing resources, for development and local training we will just do a down sampling using BigQuery. As it is highly imbalanced dataset, records with attributed=1 are completely included but records with attributed=0 are down sampled randomly.  "
   ]
  },
  {
   "cell_type": "code",
   "execution_count": 8,
   "metadata": {},
   "outputs": [
    {
     "name": "stderr",
     "output_type": "stream",
     "text": [
      "/home/czehoul/machineLearningVenv/lib/python3.5/site-packages/ipykernel_launcher.py:23: DeprecationWarning: Call to deprecated `__getitem__` (Method will be removed in 4.0.0, use self.wv.__getitem__() instead).\n"
     ]
    }
   ],
   "source": [
    "import csv\n",
    "import numpy as np\n",
    "\n",
    "#replace the original categories with category vectors, we perform the conversion line by line, this approach \n",
    "#doesn't have memory constraint and it will work too for full train data  \n",
    "vocab = set(model.wv.index2word)\n",
    "n_cat2vec_feature = len(categories)\n",
    "cat2vec_feature_size = 5\n",
    "\n",
    "with open(\"./data/train_extra_sample.csv\", \"r\") as f:\n",
    "    with open(\"./data/train_extra_sample_catvec.csv\",'w') as resultFile:\n",
    "        wr = csv.writer(resultFile, lineterminator=\"\\n\")\n",
    "        line = f.readline().rstrip('\\n')\n",
    "        wr.writerow([\"cat_vec_%s\"%i for i in range(25)]+line.split(',')[5:])\n",
    "        for line in f:\n",
    "            line = line.rstrip('\\n')\n",
    "            extractedCats = preProcessRow(line)\n",
    "            extractedNumerics = line.split(',')[5:]  \n",
    "            allCatVector = np.zeros((n_cat2vec_feature * cat2vec_feature_size,), dtype=\"float64\")\n",
    "\n",
    "            for index, catItem in enumerate(extractedCats):\n",
    "                if catItem in vocab:\n",
    "                    startIndex = index * cat2vec_feature_size\n",
    "                    endIndex = (index + 1) * cat2vec_feature_size\n",
    "                    allCatVector[startIndex : endIndex] = model[catItem]\n",
    "\n",
    "            allCols = np.append(allCatVector, extractedNumerics)           \n",
    "            wr.writerow(allCols)\n",
    "            "
   ]
  },
  {
   "cell_type": "code",
   "execution_count": 8,
   "metadata": {},
   "outputs": [],
   "source": [
    "#read the result file after cat2vec conversion\n",
    "train_df = pd.read_csv(\"./data/train_extra_sample_catvec.csv\")\n",
    "train_df.reset_index(drop=True, inplace=True)"
   ]
  },
  {
   "cell_type": "code",
   "execution_count": 9,
   "metadata": {},
   "outputs": [],
   "source": [
    "from sklearn.model_selection import train_test_split\n",
    "y = train_df.pop('is_attributed')\n",
    "X_train, X_test, y_train, y_test = train_test_split(train_df, y, random_state=1)"
   ]
  },
  {
   "cell_type": "code",
   "execution_count": 10,
   "metadata": {},
   "outputs": [
    {
     "name": "stdout",
     "output_type": "stream",
     "text": [
      "<class 'pandas.core.frame.DataFrame'>\n",
      "Int64Index: 205348 entries, 48816 to 170325\n",
      "Data columns (total 45 columns):\n",
      "cat_vec_0                                                205348 non-null float64\n",
      "cat_vec_1                                                205348 non-null float64\n",
      "cat_vec_2                                                205348 non-null float64\n",
      "cat_vec_3                                                205348 non-null float64\n",
      "cat_vec_4                                                205348 non-null float64\n",
      "cat_vec_5                                                205348 non-null float64\n",
      "cat_vec_6                                                205348 non-null float64\n",
      "cat_vec_7                                                205348 non-null float64\n",
      "cat_vec_8                                                205348 non-null float64\n",
      "cat_vec_9                                                205348 non-null float64\n",
      "cat_vec_10                                               205348 non-null float64\n",
      "cat_vec_11                                               205348 non-null float64\n",
      "cat_vec_12                                               205348 non-null float64\n",
      "cat_vec_13                                               205348 non-null float64\n",
      "cat_vec_14                                               205348 non-null float64\n",
      "cat_vec_15                                               205348 non-null float64\n",
      "cat_vec_16                                               205348 non-null float64\n",
      "cat_vec_17                                               205348 non-null float64\n",
      "cat_vec_18                                               205348 non-null float64\n",
      "cat_vec_19                                               205348 non-null float64\n",
      "cat_vec_20                                               205348 non-null float64\n",
      "cat_vec_21                                               205348 non-null float64\n",
      "cat_vec_22                                               205348 non-null float64\n",
      "cat_vec_23                                               205348 non-null float64\n",
      "cat_vec_24                                               205348 non-null float64\n",
      "click_time                                               205348 non-null object\n",
      "cumcount_by_ip_app_past_5min                             205348 non-null int64\n",
      "cumcount_by_ip_app_past_1hr_to_8hr                       205348 non-null int64\n",
      "cumcount_by_ip_app_os_past_5min                          205348 non-null int64\n",
      "cumcount_by_ip_app_os_past_5min_to_1hr                   205348 non-null int64\n",
      "cumcount_by_ip_app_os_past_1hr_to_8hr                    205348 non-null int64\n",
      "cumcount_by_ip_device_os_past_5min                       205348 non-null int64\n",
      "cumcount_by_ip_device_os_past_5min_to_1hr                205348 non-null int64\n",
      "cumcount_by_ip_device_os_past_1hr_to_8hr                 205348 non-null int64\n",
      "cumcount_by_ip_device_os_app_channel_past_5min           205348 non-null int64\n",
      "cumcount_by_ip_device_os_app_channel_past_5min_to_1hr    205348 non-null int64\n",
      "cumcount_by_ip_device_os_app_channel_past_1hr_to_8hr     205348 non-null int64\n",
      "unique_channel_by_ip_cum_count                           205348 non-null int64\n",
      "unique_app_by_ip_device_os_cum_count                     205348 non-null int64\n",
      "unique_app_by_ip_cum_count                               205348 non-null int64\n",
      "unique_os_by_ip_app_cum_count                            205348 non-null int64\n",
      "unique_device_by_ip_cum_count                            205348 non-null int64\n",
      "cumcount_by_ip_past_5min                                 205348 non-null int64\n",
      "cumcount_by_ip_past_5min_to_1hr                          205348 non-null int64\n",
      "cumcount_by_ip_past_1hr_to_8hr                           205348 non-null int64\n",
      "dtypes: float64(25), int64(19), object(1)\n",
      "memory usage: 72.1+ MB\n"
     ]
    }
   ],
   "source": [
    "X_test.info()"
   ]
  },
  {
   "cell_type": "markdown",
   "metadata": {},
   "source": [
    "Then, we have to establish a Baseline or Baseline Model. It is not easy to establish a baseline model for this problem programmatically (without machine learning) as we can't easily define set of logic to classify the data. We can simply guess all records are not attributed as this is imbalanced data with majority of records are not attributed. If we do so, in term of ROC AUC score we will get 0.5. Therefore any model with ROC AUC score greater than 0.5 is consider better than random guess. We can also further develop a simple machine learning model with default parameter as our Baseline Model as below.        "
   ]
  },
  {
   "cell_type": "code",
   "execution_count": 37,
   "metadata": {},
   "outputs": [
    {
     "name": "stdout",
     "output_type": "stream",
     "text": [
      "0.8788777619740002\n"
     ]
    }
   ],
   "source": [
    "#Baseline model\n",
    "from sklearn.tree import DecisionTreeClassifier\n",
    "from sklearn import metrics\n",
    "decision_tree_clf =  DecisionTreeClassifier()\n",
    "pipeline = Pipeline([('all_preprocess', preprocess_all), ('clf', decision_tree_clf)])\n",
    "pipeline.fit(X_train,y_train)\n",
    "y_pred_prob = pipeline.predict_proba(X_test)[:, 1]\n",
    "print(metrics.roc_auc_score(y_test, y_pred_prob))"
   ]
  },
  {
   "cell_type": "markdown",
   "metadata": {},
   "source": [
    "Then we will develop a model using XGBoost. We will start with default hyperparameters, plot the learning curve and follows by tuning XGBoost hyperparameters to get optimum result. "
   ]
  },
  {
   "cell_type": "code",
   "execution_count": 35,
   "metadata": {},
   "outputs": [
    {
     "name": "stdout",
     "output_type": "stream",
     "text": [
      "0.9617822606438504\n"
     ]
    }
   ],
   "source": [
    "# A quick test to verify all are working fine\n",
    "import xgboost as xgb\n",
    "xgboost_clf =  xgb.XGBClassifier()\n",
    "pipeline = Pipeline([('all_preprocess', preprocess_all), ('clf', xgboost_clf)])\n",
    "pipeline.fit(X_train,y_train)\n",
    "y_pred_prob = pipeline.predict_proba(X_test)[:, 1]\n",
    "print(metrics.roc_auc_score(y_test, y_pred_prob))"
   ]
  },
  {
   "cell_type": "markdown",
   "metadata": {},
   "source": [
    "Lets trains the model and plot the learning curve."
   ]
  },
  {
   "cell_type": "code",
   "execution_count": 41,
   "metadata": {},
   "outputs": [],
   "source": [
    "from sklearn.model_selection import learning_curve\n",
    "import xgboost as xgb\n",
    "\n",
    "xgboost_clf =  xgb.XGBClassifier()\n",
    "pipeline_clf = Pipeline([('all_preprocess', preprocess_all), ('clf', xgboost_clf)])\n",
    "\n",
    "train_sizes, train_scores, test_scores = learning_curve(pipeline_clf, \n",
    "                                                        X_train, \n",
    "                                                        y_train,\n",
    "                                                        # Number of folds in cross-validation\n",
    "                                                        cv=5,\n",
    "                                                        # Evaluation metric\n",
    "                                                        scoring='roc_auc',\n",
    "                                                        # Use all computer cores\n",
    "                                                        n_jobs=-1, \n",
    "                                                        # 10 different sizes of the training set\n",
    "                                                        train_sizes=np.linspace(0.01, 1.0, 10))\n",
    "\n",
    "# Create means and standard deviations of training set scores\n",
    "train_mean = np.mean(train_scores, axis=1)\n",
    "train_std = np.std(train_scores, axis=1)\n",
    "\n",
    "# Create means and standard deviations of test set scores\n",
    "test_mean = np.mean(test_scores, axis=1)\n",
    "test_std = np.std(test_scores, axis=1)"
   ]
  },
  {
   "cell_type": "code",
   "execution_count": 42,
   "metadata": {},
   "outputs": [
    {
     "data": {
      "image/png": "[encoded data removed]",
      "text/plain": [
       "<matplotlib.figure.Figure at 0x7f730b2117b8>"
      ]
     },
     "metadata": {},
     "output_type": "display_data"
    }
   ],
   "source": [
    "import matplotlib.pyplot as plt\n",
    "# Draw lines\n",
    "plt.plot(train_sizes, train_mean, '--', color=\"#111111\",  label=\"Training score\")\n",
    "plt.plot(train_sizes, test_mean, color=\"#111111\", label=\"Cross-validation score\")\n",
    "\n",
    "# Draw bands\n",
    "plt.fill_between(train_sizes, train_mean - train_std, train_mean + train_std, color=\"#DDDDDD\")\n",
    "plt.fill_between(train_sizes, test_mean - test_std, test_mean + test_std, color=\"#DDDDDD\")\n",
    "\n",
    "# Create plot\n",
    "plt.title(\"Learning Curve\")\n",
    "plt.xlabel(\"Training Set Size\"), plt.ylabel(\"ROC AUC Score\"), plt.legend(loc=\"best\")\n",
    "plt.tight_layout()\n",
    "plt.show()"
   ]
  },
  {
   "cell_type": "markdown",
   "metadata": {},
   "source": [
    "From the learning curve above, we probably have high bias/under fitting problem. We need more features and more complex model. In this case, we will try to tune XGBoost hyper parameter to allow the model to be more complicated. We will use Bayesian Optimization with Hyperopt package to tune XGBoost hyperparameters automatically."
   ]
  },
  {
   "cell_type": "code",
   "execution_count": 80,
   "metadata": {},
   "outputs": [],
   "source": [
    "#Prepare training log\n",
    "import csv\n",
    "import datetime\n",
    "\n",
    "\n",
    "out_file = 'xgboost_trials.csv'\n",
    "\n",
    "def write_log(row):\n",
    "    file_connection = open(out_file, 'a')\n",
    "    writer = csv.writer(file_connection)\n",
    "   \n",
    "    writer.writerow(row)\n",
    "    file_connection.close()"
   ]
  },
  {
   "cell_type": "code",
   "execution_count": 83,
   "metadata": {},
   "outputs": [],
   "source": [
    "write_log(['loss', 'params', 'iteration', 'train_time'])"
   ]
  },
  {
   "cell_type": "code",
   "execution_count": 94,
   "metadata": {},
   "outputs": [
    {
     "name": "stdout",
     "output_type": "stream",
     "text": [
      "100%|██████████| 100/100 [47:25:22<00:00, 1285.81s/it, best loss: 0.02795185865304617]   \n"
     ]
    }
   ],
   "source": [
    "from hyperopt import hp\n",
    "from hyperopt import tpe\n",
    "from hyperopt import fmin\n",
    "from hyperopt import Trials\n",
    "from hyperopt import STATUS_OK\n",
    "from sklearn.model_selection import cross_val_score\n",
    "\n",
    "\n",
    "space = {\n",
    "    \"clf__max_depth\":  hp.quniform('clf__max_depth', 3, 10, 1),    \n",
    "    'clf__learning_rate': hp.loguniform('clf__learning_rate', np.log(0.01), np.log(0.2)),\n",
    "    'clf__min_child_weight': hp.quniform('clf__min_child_weight', 1, 6, 1),    \n",
    "    'clf__reg_alpha': hp.uniform('clf__reg_alpha', 0.0, 1.0),\n",
    "    'clf__reg_lambda': hp.uniform('clf__reg_lambda', 0.0, 1.0),\n",
    "    'clf__subsample': hp.uniform('clf__subsample', 0.5, 1.0),\n",
    "    'clf__colsample_bytree': hp.uniform('clf__colsample_bytree', 0.5, 1.0)    \n",
    "}\n",
    "\n",
    "MAX_EVALS = 100\n",
    "N_FOLDS = 7\n",
    "iteration = 0\n",
    "\n",
    "def objective(params, n_folds = N_FOLDS):\n",
    "    \"\"\"Objective function for XGBoost Hyperparameter Tuning\"\"\"\n",
    "    global iteration \n",
    "    iteration += 1\n",
    "    \n",
    "    xgboost_clf =  xgb.XGBClassifier(n_estimators=200)\n",
    "    \n",
    "    pipeline_clf = Pipeline([('all_preprocess', preprocess_all), ('clf', xgboost_clf)])\n",
    "    \n",
    "    pipeline_clf.set_params(\n",
    "        clf__max_depth=int(params.get('clf__max_depth')),\n",
    "        clf__learning_rate=float(params.get('clf__learning_rate')),\n",
    "        clf__min_child_weight=int(params.get('clf__min_child_weight')),\n",
    "        clf__reg_alpha=float(params.get('clf__reg_alpha')),\n",
    "        clf__reg_lambda=float(params.get('clf__reg_lambda')),\n",
    "        clf__subsample=float(params.get('clf__subsample')),\n",
    "        clf__colsample_bytree=float(params.get('clf__colsample_bytree'))\n",
    "        )\n",
    "    \n",
    "    # Perform n_fold cross validation with hyperparameters\n",
    "    # We should use early stopping, but unfortunately XGBoost SciKit learn wrapper cant support early stopping in CV  \n",
    "       \n",
    "    cv_scores = cross_val_score(pipeline_clf, X_train, y_train, cv=n_folds, scoring='roc_auc', n_jobs=-1)\n",
    "  \n",
    "    # Extract the best score\n",
    "    best_score = cv_scores.mean()\n",
    "    \n",
    "    # Loss must be minimized\n",
    "    loss = 1 - best_score\n",
    "    \n",
    "    write_log([loss, params, iteration, datetime.datetime.now()])\n",
    "        \n",
    "    # Dictionary with information for evaluation\n",
    "    return {'loss': loss, 'params': params, 'status': STATUS_OK}\n",
    "\n",
    "bayes_trials = Trials()\n",
    "\n",
    "# Optimize\n",
    "best_params = fmin(fn = objective, space = space, algo = tpe.suggest, \n",
    "            max_evals = MAX_EVALS, trials = bayes_trials)"
   ]
  },
  {
   "cell_type": "code",
   "execution_count": 96,
   "metadata": {},
   "outputs": [
    {
     "data": {
      "text/plain": [
       "{'clf__colsample_bytree': 0.5141845347206645,\n",
       " 'clf__learning_rate': 0.09161924835975353,\n",
       " 'clf__max_depth': 10.0,\n",
       " 'clf__min_child_weight': 4.0,\n",
       " 'clf__reg_alpha': 0.4863462796562168,\n",
       " 'clf__reg_lambda': 0.7185839745545605,\n",
       " 'clf__subsample': 0.9601716018090558}"
      ]
     },
     "execution_count": 96,
     "metadata": {},
     "output_type": "execute_result"
    }
   ],
   "source": [
    "best_params"
   ]
  },
  {
   "cell_type": "code",
   "execution_count": 101,
   "metadata": {},
   "outputs": [
    {
     "data": {
      "text/plain": [
       "Pipeline(memory=None,\n",
       "     steps=[('all_preprocess', Pipeline(memory=None,\n",
       "     steps=[('preprocess', ColumnTransformer(n_jobs=None, remainder='passthrough', sparse_threshold=0.3,\n",
       "         transformer_weights=None,\n",
       "         transformers=[('functiontransformer-1', FunctionTransformer(accept_sparse=False, check_inverse=True,\n",
       "  ...745545605,\n",
       "       scale_pos_weight=1, seed=None, silent=True,\n",
       "       subsample=0.9601716018090558))])"
      ]
     },
     "execution_count": 101,
     "metadata": {},
     "output_type": "execute_result"
    }
   ],
   "source": [
    "#Use the best parameters to fit the train set\n",
    "xgboost_clf =  xgb.XGBClassifier(n_estimators=200, colsample_bytree=0.5141845347206645,\n",
    " learning_rate=0.09161924835975353,\n",
    " max_depth=10,\n",
    " min_child_weight=4,\n",
    " reg_alpha=0.4863462796562168,\n",
    " reg_lambda=0.7185839745545605,\n",
    " subsample=0.9601716018090558)    \n",
    "pipeline_clf = Pipeline([('all_preprocess', preprocess_all), ('clf', xgboost_clf)])\n",
    "pipeline_clf.fit(X_train, y_train)\n"
   ]
  },
  {
   "cell_type": "code",
   "execution_count": 102,
   "metadata": {},
   "outputs": [
    {
     "name": "stdout",
     "output_type": "stream",
     "text": [
      "Train Set Score =  0.9826101193607546\n"
     ]
    }
   ],
   "source": [
    "y_pred_prob = pipeline_clf.predict_proba(X_train)[:, 1]\n",
    "print(\"Train Set Score = \", metrics.roc_auc_score(y_train, y_pred_prob))"
   ]
  },
  {
   "cell_type": "code",
   "execution_count": 103,
   "metadata": {},
   "outputs": [
    {
     "name": "stdout",
     "output_type": "stream",
     "text": [
      "Test Set Score =  0.9723152575990346\n"
     ]
    }
   ],
   "source": [
    "y_pred_prob = pipeline_clf.predict_proba(X_test)[:, 1]\n",
    "print(\"Test Set Score = \", metrics.roc_auc_score(y_test, y_pred_prob))"
   ]
  },
  {
   "cell_type": "markdown",
   "metadata": {},
   "source": [
    "## Model Training - Production Scale"
   ]
  },
  {
   "cell_type": "markdown",
   "metadata": {},
   "source": [
    "After feature engineering and transformation, the transformed full train data size is greater than 100 GB. To train this data set, we have to perform distributed training in Spark cluster. The code above has to be re-writtten in PySaprk and Spark ML. Due to limited resources and time, this is out of scope for this notebook. This is to be done in next notebook when time permits.  "
   ]
  },
  {
   "cell_type": "code",
   "execution_count": null,
   "metadata": {},
   "outputs": [],
   "source": []
  }
 ],
 "metadata": {
  "kernelspec": {
   "display_name": "Python 3",
   "language": "python",
   "name": "python3"
  },
  "language_info": {
   "codemirror_mode": {
    "name": "ipython",
    "version": 3
   },
   "file_extension": ".py",
   "mimetype": "text/x-python",
   "name": "python",
   "nbconvert_exporter": "python",
   "pygments_lexer": "ipython3",
   "version": "3.5.2"
  }
 },
 "nbformat": 4,
 "nbformat_minor": 1
}
